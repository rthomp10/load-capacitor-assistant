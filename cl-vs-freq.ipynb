{
 "cells": [
  {
   "cell_type": "markdown",
   "metadata": {},
   "source": [
    "# Load Capacitor Assistant  \n"
   ]
  },
  {
   "cell_type": "code",
   "execution_count": 1,
   "metadata": {},
   "outputs": [],
   "source": [
    "import numpy as np\n",
    "import matplotlib.pyplot as plt"
   ]
  },
  {
   "cell_type": "markdown",
   "metadata": {},
   "source": [
    "$f_L = f_S(1+\\frac{C_1}{2(C_0+C_L)})$"
   ]
  },
  {
   "cell_type": "markdown",
   "metadata": {},
   "source": [
    "#### Variables to be changed"
   ]
  },
  {
   "cell_type": "code",
   "execution_count": 4,
   "metadata": {},
   "outputs": [],
   "source": [
    "fs = 32754.5487283421        #250B\n",
    "cm = 6.88816009324201e-15    #250B\n",
    "c0 = 1.57470041437137e-12    #250B\n",
    "cl_nominal = 7e-12           #Datasheet\n",
    "c1c2 = 5e-12                 #Customer schematic\n",
    "f_customer_board = 32767.25  #Measured frequency on-board"
   ]
  },
  {
   "cell_type": "markdown",
   "metadata": {},
   "source": [
    "#### Nominal $F_S$ Calculator\n",
    "In case FL is provided and Fs is left out.  \n",
    "$f_S = \\frac{f_L}{1+\\frac{C_1}{2(C_0+C_L)}}$"
   ]
  },
  {
   "cell_type": "code",
   "execution_count": 6,
   "metadata": {
    "scrolled": true
   },
   "outputs": [
    {
     "name": "stdout",
     "output_type": "stream",
     "text": [
      "fs = 32762.08917332905\n"
     ]
    }
   ],
   "source": [
    "# fl_nominal = 32767.98918656\n",
    "# fs = fl_nominal / ( 1 + cm / ( 2 * ( c0 + cl_nominal ) ) )\n",
    "# print(f\"fs = {fs}\")"
   ]
  },
  {
   "cell_type": "markdown",
   "metadata": {},
   "source": [
    "#### Calculation and Visualization"
   ]
  },
  {
   "cell_type": "code",
   "execution_count": 18,
   "metadata": {},
   "outputs": [
    {
     "ename": "IndexError",
     "evalue": "boolean index did not match indexed array along dimension 0; dimension is 19000 but corresponding boolean dimension is 15192",
     "output_type": "error",
     "traceback": [
      "\u001b[0;31m---------------------------------------------------------------------------\u001b[0m",
      "\u001b[0;31mIndexError\u001b[0m                                Traceback (most recent call last)",
      "\u001b[0;32m<ipython-input-18-9b3485d27146>\u001b[0m in \u001b[0;36m<module>\u001b[0;34m\u001b[0m\n\u001b[1;32m     34\u001b[0m \u001b[0mc1c2_dist\u001b[0m \u001b[0;34m=\u001b[0m \u001b[0;34m(\u001b[0m\u001b[0;36m2\u001b[0m\u001b[0;34m*\u001b[0m\u001b[0;34m(\u001b[0m\u001b[0mcl\u001b[0m \u001b[0;34m-\u001b[0m \u001b[0mboard_strays\u001b[0m\u001b[0;34m)\u001b[0m\u001b[0;34m)\u001b[0m\u001b[0;34m\u001b[0m\u001b[0;34m\u001b[0m\u001b[0m\n\u001b[1;32m     35\u001b[0m \u001b[0mc1c2_dist\u001b[0m \u001b[0;34m=\u001b[0m \u001b[0mc1c2_dist\u001b[0m\u001b[0;34m[\u001b[0m\u001b[0mc1c2_dist\u001b[0m \u001b[0;34m>=\u001b[0m \u001b[0;36m0\u001b[0m\u001b[0;34m]\u001b[0m\u001b[0;34m\u001b[0m\u001b[0;34m\u001b[0m\u001b[0m\n\u001b[0;32m---> 36\u001b[0;31m \u001b[0mfl\u001b[0m \u001b[0;34m=\u001b[0m \u001b[0mfl\u001b[0m\u001b[0;34m[\u001b[0m\u001b[0mc1c2_dist\u001b[0m \u001b[0;34m>=\u001b[0m \u001b[0;36m0\u001b[0m\u001b[0;34m]\u001b[0m\u001b[0;34m\u001b[0m\u001b[0;34m\u001b[0m\u001b[0m\n\u001b[0m\u001b[1;32m     37\u001b[0m \u001b[0;34m\u001b[0m\u001b[0m\n\u001b[1;32m     38\u001b[0m \u001b[0mplt\u001b[0m\u001b[0;34m.\u001b[0m\u001b[0mfigure\u001b[0m\u001b[0;34m(\u001b[0m\u001b[0mfigsize\u001b[0m\u001b[0;34m=\u001b[0m\u001b[0;34m(\u001b[0m\u001b[0;36m9\u001b[0m\u001b[0;34m,\u001b[0m\u001b[0;36m5\u001b[0m\u001b[0;34m)\u001b[0m\u001b[0;34m)\u001b[0m\u001b[0;34m\u001b[0m\u001b[0;34m\u001b[0m\u001b[0m\n",
      "\u001b[0;31mIndexError\u001b[0m: boolean index did not match indexed array along dimension 0; dimension is 19000 but corresponding boolean dimension is 15192"
     ]
    },
    {
     "data": {
      "image/png": "[encoded data removed]",
      "text/plain": [
       "<Figure size 648x360 with 1 Axes>"
      ]
     },
     "metadata": {
      "needs_background": "light"
     },
     "output_type": "display_data"
    }
   ],
   "source": [
    "cl = np.arange(1e-12, 20e-12, 1e-15)\n",
    "fl = fs * ( 1 + cm/( 2 * (c0 + cl) ) )\n",
    "fa = fs * np.sqrt( 1 + cm/c0 )\n",
    "lm = ( 1 / ( 2 * np.pi * fs ) )**2 / cm\n",
    "ts = -( cm / ( 2 * ( c0 + cl_nominal )**2 ) )*1e-6\n",
    "\n",
    "\n",
    "#Determines closest index to customer board and optimal fl\n",
    "customer_fl_cl_index = np.abs(fl-f_customer_board).argmin()\n",
    "optimal_fl_cl_index  = np.abs(cl-cl_nominal).argmin()\n",
    "\n",
    "cl_current = cl[customer_fl_cl_index]\n",
    "board_strays = cl_current - c1c2/2\n",
    "c1c2_recommended = 2*(cl_nominal - board_strays) \n",
    "\n",
    "#\n",
    "# Plating Load vs. Oscillator Frequency\n",
    "#\n",
    "plt.figure(figsize=(9,5))\n",
    "plt.title(f'Plating Load vs. Oscillator Frequency')\n",
    "plt.ylabel('$C_L$ (pF)')\n",
    "plt.xlabel('$f_L$ (Hz)')\n",
    "plt.grid()\n",
    "plt.plot(fl, cl*1e12)\n",
    "plt.vlines(fl[customer_fl_cl_index], 0, cl[customer_fl_cl_index]*1e12, \n",
    "           linestyles='--', color='red', label='Customer Board')\n",
    "plt.vlines(fl[optimal_fl_cl_index], 0, cl[optimal_fl_cl_index]*1e12, \n",
    "           linestyles='--', color='green', label='Optimal')\n",
    "# plt.savefig(\"CL Freq Response.svg\", bbox_inches='tight', pad_inches=0.3)\n",
    "\n",
    "#\n",
    "# C1C2 vs. Oscillator Frequency\n",
    "#\n",
    "c1c2_dist = (2*(cl - board_strays))\n",
    "c1c2_dist = c1c2_dist[c1c2_dist >= 0]\n",
    "fl = fl[0:c1c2_dist.l]\n",
    "\n",
    "plt.figure(figsize=(9,5))\n",
    "plt.title(f'C1C2 vs. Oscillator Frequency')\n",
    "plt.ylabel('$C_1 = C_2$ (pF)')\n",
    "plt.xlabel('$f_L$ (Hz)')\n",
    "plt.grid()\n",
    "plt.plot(fl, c1c2_dist*1e12)\n",
    "plt.vlines(fl[customer_fl_cl_index], 0, c1c2_dist[customer_fl_cl_index]*1e12, \n",
    "           linestyles='--', color='red', label='Customer Board')\n",
    "plt.vlines(fl[optimal_fl_cl_index], 0, c1c2_dist[optimal_fl_cl_index]*1e12, \n",
    "           linestyles='--', color='green', label='Optimal')\n",
    "# plt.savefig(\"CL Freq Response.svg\", bbox_inches='tight', pad_inches=0.3)\n",
    "\n",
    "\n",
    "# Text results outputed in-program\n",
    "print(f\"Ts = {round(ts, 2)} ppm/pF\")\n",
    "print(f\"Fa = {round(fa, 2)}Hz\")\n",
    "print(f\"Lm = {round(lm*1e3, 2)} mH\")\n",
    "print(f\"Cm = {round(cm*1e15, 2)} fF\")\n",
    "print(f\"C0 = {round(c0*1e12, 2)} pF\")\n",
    "print(f\"Current c1=c2 = {c1c2*1e12} pF\", file=open(\"output.txt\", 'a'))\n",
    "print(f\"Current added CL  = {c1c2*1e12/2} pF\")\n",
    "print(f\"Current CL = {cl_current*1e12} pF\")\n",
    "print(f\"Board Stray estimate = {round(board_strays*1e12,2)} pF\")\n",
    "print(f\"Recommended c1=c2= {round(c1c2_recommended*1e12, 2)} pF\")\n",
    "\n",
    "# Text results outputed to an output.txt file\n",
    "print(f\"Ts = {round(ts, 2)} ppm/pF\", file=open(\"output.txt\", 'w'))\n",
    "print(f\"Fa = {round(fa, 2)}Hz\", file=open(\"output.txt\", 'a'))\n",
    "print(f\"Lm = {round(lm*1e3, 2)} mH\", file=open(\"output.txt\", 'a'))\n",
    "print(f\"Cm = {round(cm*1e15, 2)} fF\", file=open(\"output.txt\", 'a'))\n",
    "print(f\"C0 = {round(c0*1e12, 2)} pF\", file=open(\"output.txt\", 'a'))\n",
    "print(f\"Current c1=c2 = {c1c2*1e12} pF\", file=open(\"output.txt\", 'a'))\n",
    "print(f\"Current added CL  = {c1c2*1e12/2} pF\", file=open(\"output.txt\", 'a'))\n",
    "print(f\"Current CL = {cl_current*1e12} pF\", file=open(\"output.txt\", 'a'))\n",
    "print(f\"Board Stray estimate = {round(board_strays*1e12,2)} pF\", file=open(\"output.txt\", 'a'))\n",
    "print(f\"Recommended c1=c2= {round(c1c2_recommended*1e12, 2)} pF\", file=open(\"output.txt\", 'a'))"
   ]
  },
  {
   "cell_type": "code",
   "execution_count": null,
   "metadata": {},
   "outputs": [],
   "source": []
  }
 ],
 "metadata": {
  "kernelspec": {
   "display_name": "Python 3",
   "language": "python",
   "name": "python3"
  },
  "language_info": {
   "codemirror_mode": {
    "name": "ipython",
    "version": 3
   },
   "file_extension": ".py",
   "mimetype": "text/x-python",
   "name": "python",
   "nbconvert_exporter": "python",
   "pygments_lexer": "ipython3",
   "version": "3.9.8"
  }
 },
 "nbformat": 4,
 "nbformat_minor": 4
}
