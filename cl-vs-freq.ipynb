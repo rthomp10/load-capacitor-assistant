{
 "cells": [
  {
   "cell_type": "markdown",
   "metadata": {},
   "source": [
    "# Load Capacitor Assistant  \n"
   ]
  },
  {
   "cell_type": "code",
   "execution_count": 10,
   "metadata": {},
   "outputs": [],
   "source": [
    "import numpy as np\n",
    "import matplotlib.pyplot as plt"
   ]
  },
  {
   "cell_type": "markdown",
   "metadata": {},
   "source": [
    "$f_L = f_S(1+\\frac{C_1}{2(C_0+C_L)})$"
   ]
  },
  {
   "cell_type": "markdown",
   "metadata": {},
   "source": [
    "#### Variables to be changed"
   ]
  },
  {
   "cell_type": "code",
   "execution_count": 22,
   "metadata": {},
   "outputs": [],
   "source": [
    "fs = None                   #250B\n",
    "cm = 6.65357233355199e-15   #250B\n",
    "c0 = 1.21419954756236e-12   #250B\n",
    "cl_nominal = 9e-12          #Datasheet\n",
    "c1c2 = 10e-12                #Customer schematic\n",
    "f_customer_board = 32771.157 #Measured frequency on-board"
   ]
  },
  {
   "cell_type": "markdown",
   "metadata": {},
   "source": [
    "#### Nominal $F_S$ Calculator\n",
    "In case FL is provided and Fs is left out.  \n",
    "$f_S = \\frac{f_L}{1+\\frac{C_1}{2(C_0+C_L)}}$"
   ]
  },
  {
   "cell_type": "code",
   "execution_count": 24,
   "metadata": {
    "scrolled": true
   },
   "outputs": [
    {
     "name": "stdout",
     "output_type": "stream",
     "text": [
      "fs = 32757.215867954455\n"
     ]
    }
   ],
   "source": [
    "fl_nominal = 32767.88496171008\n",
    "fs = fl_nominal / ( 1 + cm / ( 2 * ( c0 + cl_nominal ) ) )\n",
    "print(f\"fs = {fs}\")"
   ]
  },
  {
   "cell_type": "markdown",
   "metadata": {},
   "source": [
    "#### Calculation and Visualization"
   ]
  },
  {
   "cell_type": "code",
   "execution_count": 27,
   "metadata": {},
   "outputs": [
    {
     "name": "stdout",
     "output_type": "stream",
     "text": [
      "Ts = -31.89 ppm/pF\n",
      "Fa = 32846.84Hz\n",
      "Lm = 3547900.37 mH\n",
      "Cm = 6.65 fF\n",
      "C0 = 1.21 pF\n",
      "Current added CL  = 5.0 pF\n",
      "Current CL = 6.6030000000005415 pF\n",
      "Board Stray estimate = 1.6 pF\n",
      "Recommended c1=c2= 14.79 pF\n"
     ]
    },
    {
     "data": {
      "image/png": "[encoded data removed]",
      "text/plain": [
       "<Figure size 648x360 with 1 Axes>"
      ]
     },
     "metadata": {
      "needs_background": "light"
     },
     "output_type": "display_data"
    }
   ],
   "source": [
    "cl = np.arange(1e-12, 20e-12, 1e-15)\n",
    "fl = fs * ( 1 + cm/( 2 * (c0 + cl) ) )\n",
    "fa = fs * np.sqrt( 1 + cm/c0 )\n",
    "lm = ( 1 / ( 2 * np.pi * fs ) )**2 / cm\n",
    "ts = -( cm / ( 2 * ( c0 + cl_nominal )**2 ) )*1e-6\n",
    "\n",
    "#Determines closest index to customer board and optimal fl\n",
    "customer_fl_cl_index = np.abs(fl-f_customer_board).argmin()\n",
    "optimal_fl_cl_index  = np.abs(cl-cl_nominal).argmin()\n",
    "\n",
    "cl_current = cl[customer_fl_cl_index]\n",
    "board_strays = cl_current - c1c2/2\n",
    "c1c2_recommended = 2*(cl_nominal - board_strays) \n",
    "\n",
    "#Plot\n",
    "plt.figure(figsize=(9,5))\n",
    "plt.title(f'Plating Load vs. Oscillator Frequency')\n",
    "plt.ylabel('$C_L$ (pF)')\n",
    "plt.xlabel('$f_L$ (Hz)')\n",
    "plt.grid()\n",
    "plt.plot(fl, cl*1e12)\n",
    "plt.vlines(fl[customer_fl_cl_index], 0, cl[customer_fl_cl_index]*1e12, \n",
    "           linestyles='--', color='red', label='Customer Board')\n",
    "plt.vlines(fl[optimal_fl_cl_index], 0, cl[optimal_fl_cl_index]*1e12, \n",
    "           linestyles='--', color='green', label='Optimal')\n",
    "plt.savefig(\"CL Freq Response.svg\", bbox_inches='tight', pad_inches=0.3)\n",
    "\n",
    "# Text results outputed in-program\n",
    "print(f\"Ts = {round(ts, 2)} ppm/pF\")\n",
    "print(f\"Fa = {round(fa, 2)}Hz\")\n",
    "print(f\"Lm = {round(lm*1e3, 2)} mH\")\n",
    "print(f\"Cm = {round(cm*1e15, 2)} fF\")\n",
    "print(f\"C0 = {round(c0*1e12, 2)} pF\")\n",
    "print(f\"Current c1=c2 = {c1c2*1e12} pF\", file=open(\"output.txt\", 'a'))\n",
    "print(f\"Current added CL  = {c1c2*1e12/2} pF\")\n",
    "print(f\"Current CL = {cl_current*1e12} pF\")\n",
    "print(f\"Board Stray estimate = {round(board_strays*1e12,2)} pF\")\n",
    "print(f\"Recommended c1=c2= {round(c1c2_recommended*1e12, 2)} pF\")\n",
    "\n",
    "# Text results outputed to an output.txt file\n",
    "print(f\"Ts = {round(ts, 2)} ppm/pF\", file=open(\"output.txt\", 'w'))\n",
    "print(f\"Fa = {round(fa, 2)}Hz\", file=open(\"output.txt\", 'a'))\n",
    "print(f\"Lm = {round(lm*1e3, 2)} mH\", file=open(\"output.txt\", 'a'))\n",
    "print(f\"Cm = {round(cm*1e15, 2)} fF\", file=open(\"output.txt\", 'a'))\n",
    "print(f\"C0 = {round(c0*1e12, 2)} pF\", file=open(\"output.txt\", 'a'))\n",
    "print(f\"Current c1=c2 = {c1c2*1e12} pF\", file=open(\"output.txt\", 'a'))\n",
    "print(f\"Current added CL  = {c1c2*1e12/2} pF\", file=open(\"output.txt\", 'a'))\n",
    "print(f\"Current CL = {cl_current*1e12} pF\", file=open(\"output.txt\", 'a'))\n",
    "print(f\"Board Stray estimate = {round(board_strays*1e12,2)} pF\", file=open(\"output.txt\", 'a'))\n",
    "print(f\"Recommended c1=c2= {round(c1c2_recommended*1e12, 2)} pF\", file=open(\"output.txt\", 'a'))"
   ]
  }
 ],
 "metadata": {
  "kernelspec": {
   "display_name": "Python 3",
   "language": "python",
   "name": "python3"
  },
  "language_info": {
   "codemirror_mode": {
    "name": "ipython",
    "version": 3
   },
   "file_extension": ".py",
   "mimetype": "text/x-python",
   "name": "python",
   "nbconvert_exporter": "python",
   "pygments_lexer": "ipython3",
   "version": "3.8.6"
  }
 },
 "nbformat": 4,
 "nbformat_minor": 4
}
